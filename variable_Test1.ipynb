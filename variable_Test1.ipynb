{
 "cells": [
  {
   "cell_type": "code",
   "execution_count": 2,
   "metadata": {},
   "outputs": [
    {
     "name": "stdout",
     "output_type": "stream",
     "text": [
      "100\n"
     ]
    }
   ],
   "source": [
    "#變數名稱 = 變數內容\n",
    "#例如建立一個名為 openedx 的變數，內容為 100:\n",
    "openedx = 100\n",
    "print(openedx)"
   ]
  },
  {
   "cell_type": "code",
   "execution_count": 10,
   "metadata": {},
   "outputs": [
    {
     "name": "stdout",
     "output_type": "stream",
     "text": [
      "台灣 2018\n"
     ]
    }
   ],
   "source": [
    "#變數有整數、浮點數、字串與布林這四種，整數與浮點數\n",
    "#可以在同一列中指定多個變數，變數之間以「,」分隔，而內容之間 也以「,」分隔\n",
    "#例如建立變數內容為台灣，years 內容為 2018\n",
    "taiwan , year = \"台灣\" , 2018\n",
    "print(taiwan , year)"
   ]
  },
  {
   "cell_type": "code",
   "execution_count": 18,
   "metadata": {},
   "outputs": [
    {
     "name": "stdout",
     "output_type": "stream",
     "text": [
      "1\n",
      "2\n",
      "3\n",
      "4\n",
      "5\n"
     ]
    }
   ],
   "source": [
    "#變數命名的規則\n",
    "#開頭第一個字不能是數字。\n",
    "#可使用大小寫字母或「_」。\n",
    "#不可與內建保留字 (右邊表格所列) 同名。\n",
    "#Python 3 可以使用中文名稱。\n",
    "#大小寫視為不同的變數。\n",
    "#不可以出現特殊字元或空白\n",
    "a = 1\n",
    "print(a)\n",
    "a1 = 2\n",
    "print(a1)\n",
    "a_b_c__95 = 3\n",
    "print(a_b_c__95)\n",
    "_abc = 4\n",
    "print(_abc)\n",
    "abc_ = 5\n",
    "print(abc_)"
   ]
  }
 ],
 "metadata": {
  "kernelspec": {
   "display_name": "Python 3",
   "language": "python",
   "name": "python3"
  },
  "language_info": {
   "codemirror_mode": {
    "name": "ipython",
    "version": 3
   },
   "file_extension": ".py",
   "mimetype": "text/x-python",
   "name": "python",
   "nbconvert_exporter": "python",
   "pygments_lexer": "ipython3",
   "version": "3.10.15"
  }
 },
 "nbformat": 4,
 "nbformat_minor": 2
}
