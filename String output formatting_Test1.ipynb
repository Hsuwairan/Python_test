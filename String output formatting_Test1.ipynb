{
 "cells": [
  {
   "cell_type": "code",
   "execution_count": null,
   "metadata": {},
   "outputs": [],
   "source": [
    "#符號\t    說明\n",
    "#%%\t        在字串 中顯示%\n",
    "#%d\t        以10 進位整數方式輸出\n",
    "#%f\t        將浮點 數以10進位方式輸出\n",
    "#%e, %E\t    將浮點 數以10進位方式輸出，並使用科學記號\n",
    "#%o\t        以8進 位整數方式輸出\n",
    "#%x, %X\t    將整數以16進位方式輸出\n",
    "#%s\t        使用str()將字串輸出\n",
    "#%c\t        以字元方式輸出\n",
    "\n",
    "#字串 % (變數,變數)"
   ]
  },
  {
   "cell_type": "code",
   "execution_count": null,
   "metadata": {},
   "outputs": [
    {
     "data": {
      "text/plain": [
       "'example:19.234'"
      ]
     },
     "execution_count": 1,
     "metadata": {},
     "output_type": "execute_result"
    }
   ],
   "source": [
    "#字串 % (變數,變數)\n",
    "#可以在輸出浮點數時指定精度\n",
    "'example:%.3f' % 19.234"
   ]
  },
  {
   "cell_type": "code",
   "execution_count": null,
   "metadata": {},
   "outputs": [
    {
     "data": {
      "text/plain": [
       "'example:19.234'"
      ]
     },
     "execution_count": 2,
     "metadata": {},
     "output_type": "execute_result"
    }
   ],
   "source": [
    "#字串 % (變數,變數)\n",
    "#也可以指定輸出時，至少要預留的字元寬度\n",
    "#由於預留了6個字元寬度，不足的部份要由空白字元補上。使用%運算子來格式化字串，會產生新的字串物件。\n",
    "\"example:%6.3f\" % 19.234"
   ]
  },
  {
   "cell_type": "code",
   "execution_count": null,
   "metadata": {},
   "outputs": [
    {
     "data": {
      "text/plain": [
       "'Justin is caterpillar!!'"
      ]
     },
     "execution_count": 4,
     "metadata": {},
     "output_type": "execute_result"
    }
   ],
   "source": [
    "#字串 % (變數,變數)\n",
    "#在格式化時，也可以使用關鍵字來指定\n",
    "\"%(real)s is %(nick)s!!\" %({\"real\" : \"Justin\" , \"nick\" : \"caterpillar\"})"
   ]
  },
  {
   "cell_type": "code",
   "execution_count": null,
   "metadata": {},
   "outputs": [
    {
     "data": {
      "text/plain": [
       "'C A B'"
      ]
     },
     "execution_count": 3,
     "metadata": {},
     "output_type": "execute_result"
    }
   ],
   "source": [
    "#New syntax\n",
    "#字串.format(變數,變數...)\n",
    "\"{} {} {}\".format(\"A\", \"B\", \"C\")"
   ]
  },
  {
   "cell_type": "code",
   "execution_count": 5,
   "metadata": {},
   "outputs": [
    {
     "data": {
      "text/plain": [
       "'C A B'"
      ]
     },
     "execution_count": 5,
     "metadata": {},
     "output_type": "execute_result"
    }
   ],
   "source": [
    "#字串.format(變數,變數...)\n",
    "\"{2} {0} {1}\".format(\"A\",\"B\",\"C\")"
   ]
  },
  {
   "cell_type": "code",
   "execution_count": 7,
   "metadata": {},
   "outputs": [
    {
     "data": {
      "text/plain": [
       "'A C B'"
      ]
     },
     "execution_count": 7,
     "metadata": {},
     "output_type": "execute_result"
    }
   ],
   "source": [
    "#字串.format(變數,變數...)\n",
    "\"{a} {c} {b}\".format(a = \"A\", b = \"B\" , c = \"C\")"
   ]
  }
 ],
 "metadata": {
  "kernelspec": {
   "display_name": "Python 3",
   "language": "python",
   "name": "python3"
  },
  "language_info": {
   "codemirror_mode": {
    "name": "ipython",
    "version": 3
   },
   "file_extension": ".py",
   "mimetype": "text/x-python",
   "name": "python",
   "nbconvert_exporter": "python",
   "pygments_lexer": "ipython3",
   "version": "3.10.15"
  }
 },
 "nbformat": 4,
 "nbformat_minor": 2
}
