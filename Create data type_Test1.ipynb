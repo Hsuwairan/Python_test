{
 "cells": [
  {
   "cell_type": "code",
   "execution_count": null,
   "metadata": {},
   "outputs": [],
   "source": [
    "#Python 的變數並沒有設定固定型態。\n",
    "#變數型態有整數、浮點數、布林值、字串。\n",
    "#• booleans (True or False)\n",
    "#• integers (42 and 100000000)\n",
    "#• floats (3.14159）\n",
    "#• string\n",
    "\n",
    "#"
   ]
  }
 ],
 "metadata": {
  "kernelspec": {
   "display_name": "Python 3",
   "language": "python",
   "name": "python3"
  },
  "language_info": {
   "name": "python",
   "version": "3.10.15"
  }
 },
 "nbformat": 4,
 "nbformat_minor": 2
}
