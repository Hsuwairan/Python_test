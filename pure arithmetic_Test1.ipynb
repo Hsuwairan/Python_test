{
 "cells": [
  {
   "cell_type": "code",
   "execution_count": 9,
   "metadata": {},
   "outputs": [
    {
     "name": "stdout",
     "output_type": "stream",
     "text": [
      "Hello Python\n",
      "30\n",
      "30.0\n",
      "True\n"
     ]
    }
   ],
   "source": [
    "#Python 純數\n",
    "'Hello Python'\n",
    "30\n",
    "30.0\n",
    "True\n",
    "#print()\n",
    "print('Hello Python')\n",
    "print(30)\n",
    "print(30.0)\n",
    "print(True)"
   ]
  },
  {
   "cell_type": "code",
   "execution_count": 24,
   "metadata": {},
   "outputs": [
    {
     "name": "stdout",
     "output_type": "stream",
     "text": [
      "13\n",
      "80\n",
      "28\n",
      "3.0\n",
      "3\n",
      "1\n",
      "4\n"
     ]
    }
   ],
   "source": [
    "#整數運算\n",
    "5 + 8\n",
    "90 - 10\n",
    "4 * 7\n",
    "6 / 2\n",
    "7 // 2\n",
    "7 % 3\n",
    "2 ** 2\n",
    "#print()\n",
    "print(5 + 8)\n",
    "print( 90 - 10)\n",
    "print(4 * 7)\n",
    "print(6 / 2)\n",
    "print(7 // 2)\n",
    "print(7 % 3)\n",
    "print(2 ** 2)\n"
   ]
  },
  {
   "cell_type": "code",
   "execution_count": 33,
   "metadata": {},
   "outputs": [
    {
     "name": "stdout",
     "output_type": "stream",
     "text": [
      "13.1\n",
      "23.1\n",
      "21.1\n",
      "16.0\n"
     ]
    }
   ],
   "source": [
    "#浮點數和整數運算\n",
    "5.1 + 8\n",
    "5.1 + 8 + 10\n",
    "5.1 + 8 * 2\n",
    "2 * (2 + 1) ** 2 - 2 ** 2 / 2\n",
    "print(5.1 + 8)\n",
    "print(5.1 + 8 + 10)\n",
    "print(5.1 + 8 * 2)\n",
    "print(2 * (2 + 1) ** 2 - 2 ** 2 / 2)"
   ]
  }
 ],
 "metadata": {
  "kernelspec": {
   "display_name": "Python 3",
   "language": "python",
   "name": "python3"
  },
  "language_info": {
   "codemirror_mode": {
    "name": "ipython",
    "version": 3
   },
   "file_extension": ".py",
   "mimetype": "text/x-python",
   "name": "python",
   "nbconvert_exporter": "python",
   "pygments_lexer": "ipython3",
   "version": "3.10.15"
  }
 },
 "nbformat": 4,
 "nbformat_minor": 2
}
