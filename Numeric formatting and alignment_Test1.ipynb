{
 "cells": [
  {
   "cell_type": "code",
   "execution_count": null,
   "metadata": {},
   "outputs": [],
   "source": [
    "#格式化的方式是在後方加上”:“及”格式符”，可用的格式符如下\n",
    "#{:d}       :整數\n",
    "#{:f}       :浮點數\n",
    "#{:e} {:E}  :科學記號，例如 1.020000e+01，大小寫就代表 \"e\" 顯示的大小寫\n",
    "#{:x} {:X}  :十六進位，大小寫分別表示 A ~ F 要顯示的大小寫\n",
    "#{:o}       :八進位\n",
    "#{:b}       :二進位\n",
    "#{:>}}      :以百分比的方式輸出"
   ]
  },
  {
   "cell_type": "code",
   "execution_count": null,
   "metadata": {},
   "outputs": [],
   "source": [
    "#另外可以使用 > ^ < 這三種符號以及數值來搭配佔位及對齊。注意: 數值型別預設是靠右對齊，字串型別預設是靠左對齊\n",
    "#{:>8d}     :整數靠右對齊，寬度為 8\n",
    "#{:^8d}     :整數置中對齊，寬度為 8\n",
    "#{:<8d}     :整數靠左對齊，寬度為 8\n",
    "#{:8.3f}    :小數點後保留 3 位，總寬度為 8 (含小數點)\n",
    "#{:+8.3f}   :小數點後保留 3 位，帶正負號，總寬度為 8 (含小數點及正負號)"
   ]
  },
  {
   "cell_type": "code",
   "execution_count": 24,
   "metadata": {},
   "outputs": [
    {
     "name": "stdout",
     "output_type": "stream",
     "text": [
      "|     123||456     |\n"
     ]
    }
   ],
   "source": [
    "#‘:’ 前方的數值如基本操作，代表後方參數的位置\n",
    "print (\"|{0:8d}||{1:<8d}|\".format(123,456))"
   ]
  },
  {
   "cell_type": "code",
   "execution_count": 51,
   "metadata": {},
   "outputs": [
    {
     "name": "stdout",
     "output_type": "stream",
     "text": [
      "|   12   ||   34   ||   56   |\n"
     ]
    }
   ],
   "source": [
    "#‘:’ 前方的數值如基本操作，代表後方參數的位置\n",
    "print (\"|{0:^8d}||{1:^8d}||{2:^8d}|\".format(12,34,56))"
   ]
  },
  {
   "cell_type": "code",
   "execution_count": 50,
   "metadata": {},
   "outputs": [
    {
     "name": "stdout",
     "output_type": "stream",
     "text": [
      "|4.32|\n"
     ]
    }
   ],
   "source": [
    "#‘:’ 前方的數值如基本操作，代表後方參數的位置\n",
    "print(\"|{0:0.2f}|\".format(4.32))"
   ]
  }
 ],
 "metadata": {
  "kernelspec": {
   "display_name": "Python 3",
   "language": "python",
   "name": "python3"
  },
  "language_info": {
   "codemirror_mode": {
    "name": "ipython",
    "version": 3
   },
   "file_extension": ".py",
   "mimetype": "text/x-python",
   "name": "python",
   "nbconvert_exporter": "python",
   "pygments_lexer": "ipython3",
   "version": "3.10.15"
  }
 },
 "nbformat": 4,
 "nbformat_minor": 2
}
